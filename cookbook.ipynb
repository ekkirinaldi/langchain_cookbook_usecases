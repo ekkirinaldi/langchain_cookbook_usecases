{
 "cells": [
  {
   "cell_type": "code",
   "execution_count": 1,
   "id": "c81ff386",
   "metadata": {},
   "outputs": [],
   "source": [
    "openai_api_key=''"
   ]
  },
  {
   "cell_type": "markdown",
   "id": "210936bc",
   "metadata": {},
   "source": [
    "# Summarization"
   ]
  },
  {
   "cell_type": "code",
   "execution_count": 2,
   "id": "43875bd4",
   "metadata": {},
   "outputs": [],
   "source": [
    "# Chat Messages"
   ]
  },
  {
   "cell_type": "code",
   "execution_count": 13,
   "id": "cd86116b",
   "metadata": {},
   "outputs": [],
   "source": [
    "from langchain.llms import OpenAI\n",
    "from langchain import PromptTemplate\n",
    "from langchain.callbacks.streaming_stdout import StreamingStdOutCallbackHandler\n",
    "\n",
    "llm = OpenAI(streaming=True, temperature=0.7, model_name='text-davinci-003', openai_api_key=openai_api_key, callbacks=[StreamingStdOutCallbackHandler()])\n",
    "\n",
    "# Create answer template\n",
    "template=\"\"\"\n",
    "%INSTRUCTIONS:\n",
    "Please summariza the following piese of text,.\n",
    "Repsonse in a manner that a 5 years old would understand.\n",
    "\n",
    "%TEXT:\n",
    "{text}\n",
    "\"\"\"\n",
    "\n",
    "# Create a Langchain prompt template that we can insert value to later\n",
    "prompt = PromptTemplate(\n",
    "    input_variables=[\"text\"],\n",
    "    template=template\n",
    "    )"
   ]
  },
  {
   "cell_type": "code",
   "execution_count": 14,
   "id": "b4df1a1f",
   "metadata": {},
   "outputs": [],
   "source": [
    "story=\"\"\"\n",
    "From around 420 million to 350 million years ago, when land plants were still the relatively new kids on the evolutionary block and “the tallest trees stood just a few feet high,” giant spires of life poked from the Earth. “The ancient organism boasted trunks up to 24 feet (8 meters) high and as wide as three feet (one meter),” said National Geographic in 2007. With the help of a fossil dug up in Saudi Arabia, scientists finally figured out what the giant creature was: a fungus. (We think.)\n",
    "\n",
    "The towering fungus spires would have stood out against a landscape scarce of such giants, said New Scientist in 2007.\n",
    "\n",
    "Fossils of the organisms, known as Prototaxites, had peppered the paleontological findings of the past century and a half, ever since they were first discovered by a Canadian in 1859. But despite the fossil records, no one could figure out what the heck these giant spires were. The University of Chicago:\n",
    "\n",
    "For the next 130 years, debate raged. Some scientists called Prototaxites a lichen, others a fungus, and still others clung to the notion that it was some kind of tree. “The problem is that when you look up close at the anatomy, it’s evocative of a lot of different things, but it’s diagnostic of nothing,” says Boyce, an associate professor in geophysical sciences and the Committee on Evolutionary Biology. “And it’s so damn big that when whenever someone says it’s something, everyone else’s hackles get up: ‘How could you have a lichen 20 feet tall?’”\n",
    "\n",
    "That all changed in 2007 when a study came out that concluded the spires were a fungus, like a gigantic early mushroom.\n",
    "\n",
    "But not everyone was sold on the idea that Prototaxites was an early fungus. No one’s questioning the spires’ existence—people just have trouble trying to imagine that such a huge structure could be a fungus. Researchers trying to refute the fungus idea thought that Prototaxites spires were gigantic mats of liverworts that had somehow rolled up. But in a follow-up study, the scientists who had proposed the fungus idea doubled down on their claim. Science is messy, and despite more than a century of digging, we still don’t really know for sure what these huge spires that dominated the ancient Earth really were.\n",
    "\n",
    "But even though the spire-like mushrooms of yore—or whatever they were—are long gone, don’t feel too bad for funguskind. The largest organism on Earth, says ABC, is still a huge fungal mat, a single organism spread over 2,200 acres of forest in eastern Oregon.\n",
    "\"\"\""
   ]
  },
  {
   "cell_type": "code",
   "execution_count": 15,
   "id": "bce51260",
   "metadata": {},
   "outputs": [
    {
     "name": "stdout",
     "output_type": "stream",
     "text": [
      "\n",
      "%INSTRUCTIONS:\n",
      "Please summariza the following piese of text,.\n",
      "Repsonse in a manner that a 5 years old would understand.\n",
      "\n",
      "%TEXT:\n",
      "\n",
      "From around 420 million to 350 million years ago, when land plants were still the relatively new kids on the evolutionary block and “the tallest trees stood just a few feet high,” giant spires of life poked from the Earth. “The ancient organism boasted trunks up to 24 feet (8 meters) high and as wide as three feet (one meter),” said National Geographic in 2007. With the help of a fossil dug up in Saudi Arabia, scientists finally figured out what the giant creature was: a fungus. (We think.)\n",
      "\n",
      "The towering fungus spires would have stood out against a landscape scarce of such giants, said New Scientist in 2007.\n",
      "\n",
      "Fossils of the organisms, known as Prototaxites, had peppered the paleontological findings of the past century and a half, ever since they were first discovered by a Canadian in 1859. But despite the fossil records, no one could figure out what the heck these giant spires were. The University of Chicago:\n",
      "\n",
      "For the next 130 years, debate raged. Some scientists called Prototaxites a lichen, others a fungus, and still others clung to the notion that it was some kind of tree. “The problem is that when you look up close at the anatomy, it’s evocative of a lot of different things, but it’s diagnostic of nothing,” says Boyce, an associate professor in geophysical sciences and the Committee on Evolutionary Biology. “And it’s so damn big that when whenever someone says it’s something, everyone else’s hackles get up: ‘How could you have a lichen 20 feet tall?’”\n",
      "\n",
      "That all changed in 2007 when a study came out that concluded the spires were a fungus, like a gigantic early mushroom.\n",
      "\n",
      "But not everyone was sold on the idea that Prototaxites was an early fungus. No one’s questioning the spires’ existence—people just have trouble trying to imagine that such a huge structure could be a fungus. Researchers trying to refute the fungus idea thought that Prototaxites spires were gigantic mats of liverworts that had somehow rolled up. But in a follow-up study, the scientists who had proposed the fungus idea doubled down on their claim. Science is messy, and despite more than a century of digging, we still don’t really know for sure what these huge spires that dominated the ancient Earth really were.\n",
      "\n",
      "But even though the spire-like mushrooms of yore—or whatever they were—are long gone, don’t feel too bad for funguskind. The largest organism on Earth, says ABC, is still a huge fungal mat, a single organism spread over 2,200 acres of forest in eastern Oregon.\n",
      "\n",
      "\n"
     ]
    }
   ],
   "source": [
    "summarization_prompt=prompt.format(text=story)\n",
    "print(summarization_prompt)"
   ]
  },
  {
   "cell_type": "code",
   "execution_count": 17,
   "id": "39726720",
   "metadata": {},
   "outputs": [
    {
     "name": "stdout",
     "output_type": "stream",
     "text": [
      "\n",
      "\n",
      "A long time ago, there were giant spires growing out of the ground like huge mushrooms! They were so big that some of them were almost 25 feet tall! Scientists didn't know what they were, but after a long time, they figured out that they were probably a kind of fungus. Now, even though those big spires are gone, there's a giant fungus mat that's even bigger than them! It covers a whole forest in Oregon!"
     ]
    }
   ],
   "source": [
    "output=llm(summarization_prompt)"
   ]
  },
  {
   "cell_type": "markdown",
   "id": "51879cb9",
   "metadata": {},
   "source": [
    "# Document Questions & Answer"
   ]
  },
  {
   "cell_type": "code",
   "execution_count": 24,
   "id": "8d515e46",
   "metadata": {},
   "outputs": [],
   "source": [
    "from langchain.llms import OpenAI\n",
    "from langchain.vectorstores import FAISS\n",
    "from langchain.chains import RetrievalQA\n",
    "from langchain.document_loaders import TextLoader\n",
    "from langchain.embeddings.openai import OpenAIEmbeddings\n",
    "from langchain.text_splitter import RecursiveCharacterTextSplitter\n",
    "\n",
    "llm = OpenAI(temperature=0, openai_api_key=openai_api_key)"
   ]
  },
  {
   "cell_type": "code",
   "execution_count": 25,
   "id": "c9610daa",
   "metadata": {},
   "outputs": [
    {
     "name": "stdout",
     "output_type": "stream",
     "text": [
      "[Document(page_content=\"Elfie.co is a global healthcare digital company focused on revolutionising wellness solutions to enhance individual health outcomes. Our vision is to provide a holistic and gamified solution to monitor general health and chronic diseases, the silent killers of our generation.\\nEach year, 25% of all people die from a chronic disease (hypertension, diabetes, cholesterol, angina, asthma…). So much of that could be avoided if people were aware of their condition and followed their doctor's prescription and lifestyle recommendations. Unfortunately, they don’t due to a lack of awareness of danger, unwillingness to change lifestyle, \\xa0and costs to follow treatment (lifelong).\\n\\nElfie is a disruptive disease prevention and management application that gamified self-monitoring and supports patients worldwide with AI-driven coaching. It is promoted by 10,000s of doctors and endorsed by multiple healthcare leaders worldwide.\\n\\nIn collaboration with Willis Towers Watson, a renowned global advisory, broking, and solutions company, we are embarking on an exciting venture to establish a thriving business in the field of wellness. Together with WTW, we will create a unique solution,\\xa0ElfieWorks, available exclusively to WTW clients and partners that will leverage the full spectrum of WTW expertise and assets combined with a premium version of Elfie that will include the best in breed of available technology and gamification.\\n\\nWith every interaction on the app, the firm offers “Elfie coins,”\\xa0 which give users access to gift cards, discounts, as well as free products and services.\\nFounded in 2020 by\\xa0Ofir Ejnes\\xa0and\\xa0Jean-Francois Legourd, Elfie said that its system has already been approved by multiple medical associations worldwide. Since its establishment, Elfie has expanded to Brazil and Vietnam.\\nLast year, the firm\\xa0raised US$1 million\\xa0in pre-seed funding from FEBE Ventures.\\n\\nthe Elfie App features:\\n1. The best wellness apps for free\\nElfie brings together all the best features to quit smoking, lose weight, reduce stress, and manage your nutrition.\\n- Smoking cessation\\n- Weigh loss\\n- Nutrition & diet\\n- Stress management\\n\\n2. Multi-disease programs\\nElfie medical board designed the best plans to self-monitor the most prevalent chronic diseases.\\n- Hypertension\\n- Diabetes (type 1, type 2, gestational...)\\n- Dyslipidemia (high cholesterol)\\n- Chest pain / angina\\n\\n3. DIGITAL PILLBOX\\nWith 6+ million medications, Elfie is the most reliable pillbox to remember intakes and refills.\\n\\n- 100+ therapeutic areas\\n- 2x annual updates\\n- 6+ millions approved drugs\\n- 30k+ connected pharmacies\\n\\n4.  AI COACHING\\n- Elfie is the first to integrate OpenAI technology into its chatbot. It is very powerful but you should always consult a healthcare professional if you seek medical advice.\\n\\n5. FAMILY SUPPORT. Get help from your family\\nWith “family support”, your family can follow and get reminder when you forget your pills or need help to go to the pharmacy.\\n- Refill / intake reminders\\n- Inventory tracker\\n- Support or get support\\n\\n6. COINS AND REWARDS. It pays to get better\\nYou earn Elfie coins for every step / drug / measurement you take. With these coins, you can get exciting rewards.\\n\\n- Free products & services\\n- Gift cards\\n- Exclusive discounts\\n- Fortune wheel\\n\\nElfie team are consists of 37 employees / member, here are list of their employees:\\nJean-Francois - Co-Founder at Elfie\\nOfir Ejnes - CEO at Elfie\\nLaurent CALAMY - Head of Engineering at Elfie\\nGiang Pham-Le - Commercial & Marketing Lead|Digital Health Startup|Ex...\\nPhuong Vu - Student at University of Medicine and Pharmacy, Ho Chi Minh City\\nMelanie Medroso - CEI Certified | CIPD HR Management Certified (L5)\\nChi Dinh - QC Engineer\\nJean-Francois - Hiring healthtech gamifiers to save lives\\nTiep Nguyen - Full-stack lead engineer at Elfie\\nPhilippe Benso - Managing Director at McKinsey & Company\\nİrem Dur - Nutritionist & Dietitian | Digital Health | Kidlish Content Writer...\\nJuliana Ferrão - CRM | Communication | Marketing | Data Analysis\\nEmilie Cristini - General Manager - Brazil | HealthTech Startup | Digital...\\nMatt Schweitz - Software Engineering\\nKhang Nguyen - Senior Mobile Developer at Elfie\\nKevin Coudenne - Global Finance Manager\\nLinkedIn Member - Software Product Manager (Health) at Apple\\nChristiaan Kaptijn - Managing Partner at Integra Partners\\nPhat Duong - Mobile Developer at Elfie\\nVy Ta - Mobile Team Lead at Elfie\\nAya Elgohary - Podcast host / Media analyst/ Senior English Instructor\\nQuang Vu - AI & ML Enthusiast\\nCan KAYA, MD - Experienced Biopharmaceutical Industry Leader\\nJang Trinh - Enthusiastic & Passionate Product Maker, Process Geek...\\nSami Ullah - Office work Rawalpindi at Elfie\\nLinkedIn Member - Pharmacist at Elfie\\nVivian Sztetrling - Mindfulness and Meditation Teacher, Behavioral Nutritionist...\\nby Elfie ongles - Prothésiste ongulaire et ciliaire chez by Elfie\\nMi Nguyen Vo - Health and Wellness Coach\\nTinatin Dekanoidze - Qualified trainer in different fields, TESOL/TEFL certified...\\nLinkedIn Member - Human Resources Manager at Elfie\\nLinkedIn Member - Concepteur paysagiste chez Elfie son jardin\\nLinkedIn Member - [Title not provided]\\nLinkedIn Member - chief executive at elfie limited\\nLinkedIn Member - Altenpflegerin bei Elfie Pflegedienst\\nLinkedIn Member - Empaquetador en Elfie\\nLinkedIn Member - traductor at elfie\", metadata={'source': 'elfieco.txt'})]\n"
     ]
    }
   ],
   "source": [
    "loader = TextLoader('elfieco.txt')\n",
    "doc = loader.load()\n",
    "print(doc)"
   ]
  },
  {
   "cell_type": "code",
   "execution_count": 28,
   "id": "b4652b1d",
   "metadata": {},
   "outputs": [],
   "source": [
    "text_splitter = RecursiveCharacterTextSplitter(chunk_size=300, chunk_overlap=200)\n",
    "docs = text_splitter.split_documents(doc)"
   ]
  },
  {
   "cell_type": "code",
   "execution_count": 30,
   "id": "ddea541b",
   "metadata": {},
   "outputs": [
    {
     "name": "stdout",
     "output_type": "stream",
     "text": [
      "Now you have 38 documents that have an average of 254 characters (smaller pieces)\n"
     ]
    }
   ],
   "source": [
    "# Get the total number of characters.\n",
    "\n",
    "num_chars = sum([len(x.page_content) for x in docs])\n",
    "print (f\"Now you have {len(docs)} documents that have an average of {num_chars / len(docs):,.0f} characters (smaller pieces)\")"
   ]
  },
  {
   "cell_type": "code",
   "execution_count": 36,
   "id": "47bdc746",
   "metadata": {},
   "outputs": [],
   "source": [
    "# Get embeddings engine ready\n",
    "embeddings = OpenAIEmbeddings(openai_api_key=openai_api_key)\n",
    "\n",
    "# Embed documents and combine with the raw text in a pseudo db\n",
    "docsearch = FAISS.from_documents(docs, embeddings)"
   ]
  },
  {
   "cell_type": "code",
   "execution_count": 39,
   "id": "d4b58fb5",
   "metadata": {},
   "outputs": [
    {
     "data": {
      "text/plain": [
       "' Elfie was founded in 2020 by Ofir Ejnes and Jean-Francois Legourd.'"
      ]
     },
     "execution_count": 39,
     "metadata": {},
     "output_type": "execute_result"
    }
   ],
   "source": [
    "qa = RetrievalQA.from_chain_type(llm=llm, chain_type=\"stuff\", retriever=docsearch.as_retriever())\n",
    "query = \"Who is elfie founders?\"\n",
    "qa.run(query)"
   ]
  }
 ],
 "metadata": {
  "kernelspec": {
   "display_name": "Python 3 (ipykernel)",
   "language": "python",
   "name": "python3"
  },
  "language_info": {
   "codemirror_mode": {
    "name": "ipython",
    "version": 3
   },
   "file_extension": ".py",
   "mimetype": "text/x-python",
   "name": "python",
   "nbconvert_exporter": "python",
   "pygments_lexer": "ipython3",
   "version": "3.9.10"
  }
 },
 "nbformat": 4,
 "nbformat_minor": 5
}
